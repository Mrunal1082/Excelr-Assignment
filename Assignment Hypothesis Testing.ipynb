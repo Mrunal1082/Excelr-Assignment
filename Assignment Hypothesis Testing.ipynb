{
 "cells": [
  {
   "cell_type": "code",
   "execution_count": 1,
   "id": "38b2c93a",
   "metadata": {},
   "outputs": [
    {
     "name": "stdout",
     "output_type": "stream",
     "text": [
      "Test Statistic (t): -38.0\n",
      "Critical Value: 1.6448536269514722\n",
      "Fail to reject the null hypothesis. There is no sufficient evidence to support the claim that the weekly operating costs are higher than the model suggests.\n"
     ]
    }
   ],
   "source": [
    "import numpy as np\n",
    "from scipy.stats import norm\n",
    "\n",
    "# Given data\n",
    "sample_mean = 3050  # sample mean weekly cost (Rs. 3,050)\n",
    "theoretical_mean = 1000 + 5 * 600  # theoretical mean weekly cost according to the cost model\n",
    "sigma = 5 * 25  # standard deviation of the number of units produced in a week\n",
    "n = 25  # sample size\n",
    "alpha = 0.05  # significance level\n",
    "\n",
    "# Step 1: State the Hypotheses statement:\n",
    "# Null Hypothesis (H0): The mean weekly operating costs are as per the theoretical model.\n",
    "# Alternative Hypothesis (H1): The mean weekly operating costs are higher than the theoretical model.\n",
    "\n",
    "# Step 2: Calculate the Test Statistic\n",
    "# Calculate the standard error of the sample mean\n",
    "standard_error = sigma / np.sqrt(n)\n",
    "\n",
    "# Calculate the test statistic (t)\n",
    "t = (sample_mean - theoretical_mean) / standard_error\n",
    "\n",
    "print(\"Test Statistic (t):\", t)\n",
    "\n",
    "# Step 3: Determine the Critical Value\n",
    "# Calculate the critical value from the standard normal (Z) distribution table\n",
    "critical_value = norm.ppf(1 - alpha)\n",
    "\n",
    "print(\"Critical Value:\", critical_value)\n",
    "\n",
    "# Step 4: Make a Decision\n",
    "# Compare the test statistic with the critical value to decide whether to reject the null hypothesis\n",
    "if t > critical_value:\n",
    "    print(\"Reject the null hypothesis. There is evidence to support the claim that the weekly operating costs are higher than the model suggests.\")\n",
    "else:\n",
    "    print(\"Fail to reject the null hypothesis. There is no sufficient evidence to support the claim that the weekly operating costs are higher than the model suggests.\")\n",
    "\n"
   ]
  },
  {
   "cell_type": "markdown",
   "id": "4c997886",
   "metadata": {},
   "source": [
    "Based on the hypothesis testing process, where we compared the test statistic (t) of -38.0 with the critical value of 1.6448536269514722 at a significance level of 5%, we failed to reject the null hypothesis.\n",
    "\n",
    "Therefore, we conclude that there is no sufficient evidence to support the restaurant owners' claim that the weekly operating costs are higher than the theoretical model suggests. This suggests that the observed mean weekly operating cost of Rs. 3,050 is not significantly higher than what would be expected based on the theoretical cost model, which predicts a mean weekly cost of 1,000 + 5X for X = 600 units."
   ]
  },
  {
   "cell_type": "code",
   "execution_count": null,
   "id": "f2f1e210",
   "metadata": {},
   "outputs": [],
   "source": []
  }
 ],
 "metadata": {
  "kernelspec": {
   "display_name": "Python 3 (ipykernel)",
   "language": "python",
   "name": "python3"
  },
  "language_info": {
   "codemirror_mode": {
    "name": "ipython",
    "version": 3
   },
   "file_extension": ".py",
   "mimetype": "text/x-python",
   "name": "python",
   "nbconvert_exporter": "python",
   "pygments_lexer": "ipython3",
   "version": "3.11.4"
  }
 },
 "nbformat": 4,
 "nbformat_minor": 5
}
