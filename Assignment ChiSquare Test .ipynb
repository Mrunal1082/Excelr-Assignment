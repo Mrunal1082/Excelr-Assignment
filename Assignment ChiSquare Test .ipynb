{
 "cells": [
  {
   "cell_type": "code",
   "execution_count": 1,
   "id": "805f6fa2",
   "metadata": {},
   "outputs": [
    {
     "name": "stdout",
     "output_type": "stream",
     "text": [
      "Chi-Square Statistic: 5.638227513227513\n",
      "Critical Value: 0.0\n",
      "Reject the null hypothesis. There is a significant association between device type and customer satisfaction level.\n"
     ]
    }
   ],
   "source": [
    "import numpy as np\n",
    "from scipy.stats import chi2_contingency\n",
    "\n",
    "# Create the contingency table\n",
    "contingency_table = np.array([[50, 70, 120],\n",
    "                              [80, 100, 180],\n",
    "                              [60, 90, 150],\n",
    "                              [30, 50, 80],\n",
    "                              [20, 50, 70]])\n",
    "\n",
    "# Step 1: State the Hypotheses\n",
    "# Null Hypothesis (H0): There is no association between device type and customer satisfaction level.\n",
    "# Alternative Hypothesis (H1): There is an association between device type and customer satisfaction level.\n",
    "\n",
    "# Step 2: Compute the Chi-Square Statistic\n",
    "chi2_stat, p_val, dof, expected = chi2_contingency(contingency_table)\n",
    "print(\"Chi-Square Statistic:\", chi2_stat)\n",
    "\n",
    "# Step 3: Determine the Critical Value\n",
    "# Using the significance level (alpha) of 0.05 and the degrees of freedom (which is the number of categories minus 1)\n",
    "alpha = 0.05\n",
    "critical_value = chi2_contingency(np.ones((5, 3)))[0]  # Calculate the critical value using chi2_contingency\n",
    "print(\"Critical Value:\", critical_value)\n",
    "\n",
    "# Step 4: Make a Decision\n",
    "if chi2_stat > critical_value:\n",
    "    print(\"Reject the null hypothesis. There is a significant association between device type and customer satisfaction level.\")\n",
    "else:\n",
    "    print(\"Fail to reject the null hypothesis. There is no significant association between device type and customer satisfaction level.\")\n"
   ]
  },
  {
   "cell_type": "code",
   "execution_count": null,
   "id": "2965fa0a",
   "metadata": {},
   "outputs": [],
   "source": []
  }
 ],
 "metadata": {
  "kernelspec": {
   "display_name": "Python 3 (ipykernel)",
   "language": "python",
   "name": "python3"
  },
  "language_info": {
   "codemirror_mode": {
    "name": "ipython",
    "version": 3
   },
   "file_extension": ".py",
   "mimetype": "text/x-python",
   "name": "python",
   "nbconvert_exporter": "python",
   "pygments_lexer": "ipython3",
   "version": "3.11.4"
  }
 },
 "nbformat": 4,
 "nbformat_minor": 5
}
